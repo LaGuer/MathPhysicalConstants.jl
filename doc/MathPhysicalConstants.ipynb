{
 "cells": [
  {
   "cell_type": "markdown",
   "metadata": {},
   "source": [
    "# MathPhysicalConstants"
   ]
  },
  {
   "cell_type": "markdown",
   "metadata": {},
   "source": [
    "This library contains Mathematical and Physical Constants to produce macro and micro-physics relations. It integrates with IJulia, outputting mathematical and Physical Constants to the notebook.\n",
    "search: ⊻ ⊋ ⊊ ⊉ ⊈ ⊇ ⊆ ≥ ≤ ≢ ≡ ≠ ≉ ≈ ∪ ∩ ∛ √ ∘ ∌ ∋ ∉ ∈ ℯ π ÷ ~ | ^ \\ > < : / - +"
   ]
  },
  {
   "cell_type": "markdown",
   "metadata": {},
   "source": [
    "## Pre requisite"
   ]
  },
  {
   "cell_type": "code",
   "execution_count": 2,
   "metadata": {},
   "outputs": [
    {
     "name": "stdout",
     "output_type": "stream",
     "text": [
      "\u001b[32m\u001b[1m  Updating\u001b[22m\u001b[39m registry at `/srv/julia/pkg/registries/General`\n",
      "\u001b[32m\u001b[1m  Updating\u001b[22m\u001b[39m git-repo `https://github.com/JuliaRegistries/General.git`\n",
      "\u001b[2K\u001b[?25h[1mFetching:\u001b[22m\u001b[39m [========================================>]  100.0 %.0 %\u001b[32m\u001b[1m Resolving\u001b[22m\u001b[39m package versions...\n",
      "\u001b[32m\u001b[1m  Updating\u001b[22m\u001b[39m `~/Project.toml`\n",
      " \u001b[90m [8f4d0f93]\u001b[39m\u001b[92m + Conda v1.2.0\u001b[39m\n",
      "\u001b[32m\u001b[1m  Updating\u001b[22m\u001b[39m `~/Manifest.toml`\n",
      " \u001b[90m [8f4d0f93]\u001b[39m\u001b[92m + Conda v1.2.0\u001b[39m\n",
      " \u001b[90m [81def892]\u001b[39m\u001b[92m + VersionParsing v1.1.3\u001b[39m\n"
     ]
    }
   ],
   "source": [
    "import Pkg;\n",
    "Pkg.add(\"Conda\")"
   ]
  },
  {
   "cell_type": "code",
   "execution_count": 3,
   "metadata": {},
   "outputs": [
    {
     "data": {
      "text/plain": [
       "\"/srv/julia/pkg/conda/3\""
      ]
     },
     "execution_count": 3,
     "metadata": {},
     "output_type": "execute_result"
    }
   ],
   "source": [
    "#ENV[\"PYTHON\"] = \"/srv/conda/bin/python3\"\n",
    "ENV[\"PYTHON\"] = \"/srv/julia/pkg/conda/3\"\n",
    "# ENV[\"PYTHON\"] = \"C:\\\\Python37-x64\\\\python.exe\" # example for Windows\n",
    "# ENV[\"PYTHON\"] = \"/usr/bin/python3.7\"           # example for *nix\n",
    "#Pkg.build(\"PyCall\")"
   ]
  },
  {
   "cell_type": "code",
   "execution_count": 4,
   "metadata": {},
   "outputs": [
    {
     "name": "stdout",
     "output_type": "stream",
     "text": [
      "\u001b[32m\u001b[1m Resolving\u001b[22m\u001b[39m package versions...\n",
      "\u001b[32m\u001b[1m Installed\u001b[22m\u001b[39m CSTParser ── v0.5.2\n",
      "\u001b[32m\u001b[1m Installed\u001b[22m\u001b[39m Tokenize ─── v0.5.3\n",
      "\u001b[32m\u001b[1m Installed\u001b[22m\u001b[39m PyCall ───── v1.91.2\n",
      "\u001b[32m\u001b[1m Installed\u001b[22m\u001b[39m MacroTools ─ v0.5.0\n",
      "\u001b[32m\u001b[1m  Updating\u001b[22m\u001b[39m `~/Project.toml`\n",
      " \u001b[90m [438e738f]\u001b[39m\u001b[92m + PyCall v1.91.2\u001b[39m\n",
      "\u001b[32m\u001b[1m  Updating\u001b[22m\u001b[39m `~/Manifest.toml`\n",
      " \u001b[90m [00ebfdb7]\u001b[39m\u001b[92m + CSTParser v0.5.2\u001b[39m\n",
      " \u001b[90m [1914dd2f]\u001b[39m\u001b[92m + MacroTools v0.5.0\u001b[39m\n",
      " \u001b[90m [438e738f]\u001b[39m\u001b[92m + PyCall v1.91.2\u001b[39m\n",
      " \u001b[90m [0796e94c]\u001b[39m\u001b[92m + Tokenize v0.5.3\u001b[39m\n",
      "\u001b[32m\u001b[1m  Building\u001b[22m\u001b[39m PyCall → `/srv/julia/pkg/packages/PyCall/ttONZ/deps/build.log`\n"
     ]
    }
   ],
   "source": [
    "import Pkg; Pkg.add(\"PyCall\")"
   ]
  },
  {
   "cell_type": "code",
   "execution_count": 5,
   "metadata": {},
   "outputs": [
    {
     "name": "stderr",
     "output_type": "stream",
     "text": [
      "┌ Info: Running `conda install -y matplotlib` in root environment\n",
      "└ @ Conda /srv/julia/pkg/packages/Conda/CpuvI/src/Conda.jl:112\n"
     ]
    },
    {
     "name": "stdout",
     "output_type": "stream",
     "text": [
      "Collecting package metadata: ...working... done\n",
      "Solving environment: ...working... done\n",
      "\n",
      "## Package Plan ##\n",
      "\n",
      "  environment location: /srv/julia/pkg/conda/3\n",
      "\n",
      "  added / updated specs:\n",
      "    - matplotlib\n",
      "\n",
      "\n",
      "The following packages will be downloaded:\n",
      "\n",
      "    package                    |            build\n",
      "    ---------------------------|-----------------\n",
      "    cycler-0.10.0              |           py37_0          13 KB\n",
      "    dbus-1.13.6                |       h746ee38_0         587 KB\n",
      "    expat-2.2.6                |       he6710b0_0         187 KB\n",
      "    fontconfig-2.13.0          |       h9420a91_0         291 KB\n",
      "    freetype-2.9.1             |       h8a8886c_1         822 KB\n",
      "    glib-2.56.2                |       hd408876_0         5.0 MB\n",
      "    gst-plugins-base-1.14.0    |       hbbd80ab_1         6.3 MB\n",
      "    gstreamer-1.14.0           |       hb453b48_1         3.8 MB\n",
      "    icu-58.2                   |       h9c2bf20_1        22.5 MB\n",
      "    jpeg-9b                    |       h024ee3a_2         248 KB\n",
      "    kiwisolver-1.0.1           |   py37hf484d3e_0          83 KB\n",
      "    libpng-1.6.36              |       hbc83047_0         346 KB\n",
      "    libuuid-1.0.3              |       h1bed415_2          16 KB\n",
      "    libxcb-1.13                |       h1bed415_1         502 KB\n",
      "    libxml2-2.9.9              |       he19cac6_0         2.0 MB\n",
      "    matplotlib-3.0.3           |   py37h5429711_0         6.6 MB\n",
      "    pcre-8.43                  |       he6710b0_0         260 KB\n",
      "    pyparsing-2.4.0            |             py_0          58 KB\n",
      "    pyqt-5.9.2                 |   py37h05f1152_2         5.6 MB\n",
      "    python-dateutil-2.8.0      |           py37_0         281 KB\n",
      "    pytz-2019.1                |             py_0         236 KB\n",
      "    qt-5.9.7                   |       h5867ecd_1        85.9 MB\n",
      "    sip-4.19.8                 |   py37hf484d3e_0         290 KB\n",
      "    tornado-6.0.2              |   py37h7b6447c_0         642 KB\n",
      "    ------------------------------------------------------------\n",
      "                                           Total:       142.4 MB\n",
      "\n",
      "The following NEW packages will be INSTALLED:\n",
      "\n",
      "  cycler             pkgs/main/linux-64::cycler-0.10.0-py37_0\n",
      "  dbus               pkgs/main/linux-64::dbus-1.13.6-h746ee38_0\n",
      "  expat              pkgs/main/linux-64::expat-2.2.6-he6710b0_0\n",
      "  fontconfig         pkgs/main/linux-64::fontconfig-2.13.0-h9420a91_0\n",
      "  freetype           pkgs/main/linux-64::freetype-2.9.1-h8a8886c_1\n",
      "  glib               pkgs/main/linux-64::glib-2.56.2-hd408876_0\n",
      "  gst-plugins-base   pkgs/main/linux-64::gst-plugins-base-1.14.0-hbbd80ab_1\n",
      "  gstreamer          pkgs/main/linux-64::gstreamer-1.14.0-hb453b48_1\n",
      "  icu                pkgs/main/linux-64::icu-58.2-h9c2bf20_1\n",
      "  jpeg               pkgs/main/linux-64::jpeg-9b-h024ee3a_2\n",
      "  kiwisolver         pkgs/main/linux-64::kiwisolver-1.0.1-py37hf484d3e_0\n",
      "  libpng             pkgs/main/linux-64::libpng-1.6.36-hbc83047_0\n",
      "  libuuid            pkgs/main/linux-64::libuuid-1.0.3-h1bed415_2\n",
      "  libxcb             pkgs/main/linux-64::libxcb-1.13-h1bed415_1\n",
      "  libxml2            pkgs/main/linux-64::libxml2-2.9.9-he19cac6_0\n",
      "  matplotlib         pkgs/main/linux-64::matplotlib-3.0.3-py37h5429711_0\n",
      "  pcre               pkgs/main/linux-64::pcre-8.43-he6710b0_0\n",
      "  pyparsing          pkgs/main/noarch::pyparsing-2.4.0-py_0\n",
      "  pyqt               pkgs/main/linux-64::pyqt-5.9.2-py37h05f1152_2\n",
      "  python-dateutil    pkgs/main/linux-64::python-dateutil-2.8.0-py37_0\n",
      "  pytz               pkgs/main/noarch::pytz-2019.1-py_0\n",
      "  qt                 pkgs/main/linux-64::qt-5.9.7-h5867ecd_1\n",
      "  sip                pkgs/main/linux-64::sip-4.19.8-py37hf484d3e_0\n",
      "  tornado            pkgs/main/linux-64::tornado-6.0.2-py37h7b6447c_0\n",
      "\n",
      "\n",
      "\n",
      "Downloading and Extracting Packages\n",
      "libxcb-1.13          | 502 KB    | ########## | 100% \n",
      "qt-5.9.7             | 85.9 MB   | ########## | 100% \n",
      "expat-2.2.6          | 187 KB    | ########## | 100% \n",
      "gstreamer-1.14.0     | 3.8 MB    | ########## | 100% \n",
      "libuuid-1.0.3        | 16 KB     | ########## | 100% \n",
      "pyqt-5.9.2           | 5.6 MB    | ########## | 100% \n",
      "libxml2-2.9.9        | 2.0 MB    | ########## | 100% \n",
      "matplotlib-3.0.3     | 6.6 MB    | ########## | 100% \n",
      "fontconfig-2.13.0    | 291 KB    | ########## | 100% \n",
      "python-dateutil-2.8. | 281 KB    | ########## | 100% \n",
      "dbus-1.13.6          | 587 KB    | ########## | 100% \n",
      "kiwisolver-1.0.1     | 83 KB     | ########## | 100% \n",
      "pcre-8.43            | 260 KB    | ########## | 100% \n",
      "glib-2.56.2          | 5.0 MB    | ########## | 100% \n",
      "jpeg-9b              | 248 KB    | ########## | 100% \n",
      "sip-4.19.8           | 290 KB    | ########## | 100% \n",
      "gst-plugins-base-1.1 | 6.3 MB    | ########## | 100% \n",
      "libpng-1.6.36        | 346 KB    | ########## | 100% \n",
      "freetype-2.9.1       | 822 KB    | ########## | 100% \n",
      "icu-58.2             | 22.5 MB   | ########## | 100% \n",
      "tornado-6.0.2        | 642 KB    | ########## | 100% \n",
      "pyparsing-2.4.0      | 58 KB     | ########## | 100% \n",
      "cycler-0.10.0        | 13 KB     | ########## | 100% \n",
      "pytz-2019.1          | 236 KB    | ########## | 100% \n",
      "Preparing transaction: ...working... done\n",
      "Verifying transaction: ...working... done\n",
      "Executing transaction: ...working... done\n"
     ]
    }
   ],
   "source": [
    "#Pkg.build(\"PyCall\")\n",
    "using Conda\n",
    "#Conda.add(\"matplotlib\", :my_env)\n",
    "Conda.add(\"matplotlib\", \"/srv/julia/pkg/conda/3\")\n"
   ]
  },
  {
   "cell_type": "code",
   "execution_count": 6,
   "metadata": {},
   "outputs": [
    {
     "name": "stderr",
     "output_type": "stream",
     "text": [
      "┌ Info: Running `conda install -y numpy` in root environment\n",
      "└ @ Conda /srv/julia/pkg/packages/Conda/CpuvI/src/Conda.jl:112\n"
     ]
    },
    {
     "name": "stdout",
     "output_type": "stream",
     "text": [
      "Collecting package metadata: ...working... done\n",
      "Solving environment: ...working... done\n",
      "\n",
      "# All requested packages already installed.\n",
      "\n"
     ]
    }
   ],
   "source": [
    "using Conda\n",
    "Conda.add(\"numpy\", \"/srv/julia/pkg/conda/3\")"
   ]
  },
  {
   "cell_type": "markdown",
   "metadata": {},
   "source": [
    "## Pkg Status"
   ]
  },
  {
   "cell_type": "code",
   "execution_count": 7,
   "metadata": {},
   "outputs": [
    {
     "name": "stderr",
     "output_type": "stream",
     "text": [
      "┌ Info: Running `conda list` in root environment\n",
      "└ @ Conda /srv/julia/pkg/packages/Conda/CpuvI/src/Conda.jl:112\n"
     ]
    },
    {
     "name": "stdout",
     "output_type": "stream",
     "text": [
      "# packages in environment at /srv/julia/pkg/conda/3:\n",
      "#\n",
      "# Name                    Version                   Build  Channel\n",
      "asn1crypto                0.24.0                   py37_0  \n",
      "blas                      1.0                         mkl  \n",
      "ca-certificates           2019.1.23                     0  \n",
      "certifi                   2019.3.9                 py37_0  \n",
      "cffi                      1.11.5           py37he75722e_1  \n",
      "chardet                   3.0.4                    py37_1  \n",
      "conda                     4.6.12                   py37_1  \n",
      "conda-env                 2.6.0                         1  \n",
      "cryptography              2.4.2            py37h1ba5d50_0  \n",
      "cycler                    0.10.0                   py37_0  \n",
      "dbus                      1.13.6               h746ee38_0  \n",
      "expat                     2.2.6                he6710b0_0  \n",
      "fontconfig                2.13.0               h9420a91_0  \n",
      "freetype                  2.9.1                h8a8886c_1  \n",
      "glib                      2.56.2               hd408876_0  \n",
      "gst-plugins-base          1.14.0               hbbd80ab_1  \n",
      "gstreamer                 1.14.0               hb453b48_1  \n",
      "icu                       58.2                 h9c2bf20_1  \n",
      "idna                      2.8                      py37_0  \n",
      "intel-openmp              2019.3                      199  \n",
      "jpeg                      9b                   h024ee3a_2  \n",
      "kiwisolver                1.0.1            py37hf484d3e_0  \n",
      "libedit                   3.1.20170329         h6b74fdf_2  \n",
      "libffi                    3.2.1                hd88cf55_4  \n",
      "libgcc-ng                 8.2.0                hdf63c60_1  \n",
      "libgfortran-ng            7.3.0                hdf63c60_0  \n",
      "libpng                    1.6.36               hbc83047_0  \n",
      "libstdcxx-ng              8.2.0                hdf63c60_1  \n",
      "libuuid                   1.0.3                h1bed415_2  \n",
      "libxcb                    1.13                 h1bed415_1  \n",
      "libxml2                   2.9.9                he19cac6_0  \n",
      "matplotlib                3.0.3            py37h5429711_0  \n",
      "mkl                       2019.3                      199  \n",
      "mkl_fft                   1.0.10           py37ha843d7b_0  \n",
      "mkl_random                1.0.2            py37hd81dba3_0  \n",
      "ncurses                   6.1                  he6710b0_1  \n",
      "numpy                     1.16.2           py37h7e9f1db_0  \n",
      "numpy-base                1.16.2           py37hde5b4d6_0  \n",
      "openssl                   1.1.1b               h7b6447c_1  \n",
      "pcre                      8.43                 he6710b0_0  \n",
      "pip                       18.1                     py37_0  \n",
      "pycosat                   0.6.3            py37h14c3975_0  \n",
      "pycparser                 2.19                     py37_0  \n",
      "pyopenssl                 18.0.0                   py37_0  \n",
      "pyparsing                 2.4.0                      py_0  \n",
      "pyqt                      5.9.2            py37h05f1152_2  \n",
      "pysocks                   1.6.8                    py37_0  \n",
      "python                    3.7.1                h0371630_7  \n",
      "python-dateutil           2.8.0                    py37_0  \n",
      "pytz                      2019.1                     py_0  \n",
      "qt                        5.9.7                h5867ecd_1  \n",
      "readline                  7.0                  h7b6447c_5  \n",
      "requests                  2.21.0                   py37_0  \n",
      "ruamel_yaml               0.15.46          py37h14c3975_0  \n",
      "setuptools                40.6.3                   py37_0  \n",
      "sip                       4.19.8           py37hf484d3e_0  \n",
      "six                       1.12.0                   py37_0  \n",
      "sqlite                    3.26.0               h7b6447c_0  \n",
      "tk                        8.6.8                hbc83047_0  \n",
      "tornado                   6.0.2            py37h7b6447c_0  \n",
      "urllib3                   1.24.1                   py37_0  \n",
      "wheel                     0.32.3                   py37_0  \n",
      "xz                        5.2.4                h14c3975_4  \n",
      "yaml                      0.1.7                had09818_2  \n",
      "zlib                      1.2.11               h7b6447c_3  \n"
     ]
    }
   ],
   "source": [
    "import Conda\n",
    "Conda.list()"
   ]
  },
  {
   "cell_type": "code",
   "execution_count": 8,
   "metadata": {},
   "outputs": [
    {
     "name": "stdout",
     "output_type": "stream",
     "text": [
      "\u001b[36m\u001b[1mProject \u001b[22m\u001b[39mMathPhysicalConstants v0.0.6\n",
      "\u001b[32m\u001b[1m    Status\u001b[22m\u001b[39m `~/Project.toml`\n",
      " \u001b[90m [49dc2e85]\u001b[39m\u001b[92m + Calculus v0.4.1\u001b[39m\n",
      " \u001b[90m [8f4d0f93]\u001b[39m\u001b[92m + Conda v1.2.0\u001b[39m\n",
      " \u001b[90m [8a292aeb]\u001b[39m\u001b[92m + Cuba v2.0.0\u001b[39m\n",
      " \u001b[90m [e30172f5]\u001b[39m\u001b[92m + Documenter v0.22.3\u001b[39m\n",
      " \u001b[90m [eff96d63]\u001b[39m\u001b[92m + Measurements v2.0.0\u001b[39m\n",
      " \u001b[90m [438e738f]\u001b[39m\u001b[92m + PyCall v1.91.2\u001b[39m\n",
      " \u001b[90m [1fd47b50]\u001b[39m\u001b[92m + QuadGK v2.0.3\u001b[39m\n",
      " \u001b[90m [276daf66]\u001b[39m\u001b[92m + SpecialFunctions v0.7.2\u001b[39m\n"
     ]
    }
   ],
   "source": [
    "import Pkg; Pkg.status()"
   ]
  },
  {
   "cell_type": "markdown",
   "metadata": {},
   "source": [
    "## Installation"
   ]
  },
  {
   "cell_type": "code",
   "execution_count": 62,
   "metadata": {},
   "outputs": [
    {
     "ename": "Pkg.Types.PkgError",
     "evalue": "Cannot add package with the same name or uuid as the project",
     "output_type": "error",
     "traceback": [
      "Cannot add package with the same name or uuid as the project",
      "",
      "Stacktrace:",
      " [1] pkgerror(::String) at /buildworker/worker/package_linux64/build/usr/share/julia/stdlib/v1.1/Pkg/src/Types.jl:120",
      " [2] #add_or_develop#15(::Symbol, ::Bool, ::Base.Iterators.Pairs{Union{},Union{},Tuple{},NamedTuple{(),Tuple{}}}, ::Function, ::Pkg.Types.Context, ::Array{Pkg.Types.PackageSpec,1}) at /buildworker/worker/package_linux64/build/usr/share/julia/stdlib/v1.1/Pkg/src/API.jl:51",
      " [3] #add_or_develop at ./none:0 [inlined]",
      " [4] #add_or_develop#14 at /buildworker/worker/package_linux64/build/usr/share/julia/stdlib/v1.1/Pkg/src/API.jl:31 [inlined]",
      " [5] #add_or_develop at ./none:0 [inlined]",
      " [6] #add_or_develop#13 at /buildworker/worker/package_linux64/build/usr/share/julia/stdlib/v1.1/Pkg/src/API.jl:29 [inlined]",
      " [7] #add_or_develop at ./none:0 [inlined]",
      " [8] #add_or_develop#12(::Base.Iterators.Pairs{Symbol,Symbol,Tuple{Symbol},NamedTuple{(:mode,),Tuple{Symbol}}}, ::Function, ::String) at /buildworker/worker/package_linux64/build/usr/share/julia/stdlib/v1.1/Pkg/src/API.jl:28",
      " [9] #add_or_develop at ./none:0 [inlined]",
      " [10] #add#20 at /buildworker/worker/package_linux64/build/usr/share/julia/stdlib/v1.1/Pkg/src/API.jl:59 [inlined]",
      " [11] add(::String) at /buildworker/worker/package_linux64/build/usr/share/julia/stdlib/v1.1/Pkg/src/API.jl:59",
      " [12] top-level scope at In[62]:2"
     ]
    }
   ],
   "source": [
    "using Pkg\n",
    "Pkg.add(\"MathPhysicalConstants\")"
   ]
  },
  {
   "cell_type": "code",
   "execution_count": 37,
   "metadata": {},
   "outputs": [
    {
     "name": "stdout",
     "output_type": "stream",
     "text": [
      "\u001b[32m\u001b[1m Resolving\u001b[22m\u001b[39m package versions...\n",
      "\u001b[32m\u001b[1m Installed\u001b[22m\u001b[39m Reexport ────────── v0.2.0\n",
      "\u001b[32m\u001b[1m Installed\u001b[22m\u001b[39m FixedPointNumbers ─ v0.5.3\n",
      "\u001b[32m\u001b[1m Installed\u001b[22m\u001b[39m PyPlot ──────────── v2.8.1\n",
      "\u001b[32m\u001b[1m Installed\u001b[22m\u001b[39m ColorTypes ──────── v0.7.5\n",
      "\u001b[32m\u001b[1m Installed\u001b[22m\u001b[39m Colors ──────────── v0.9.5\n",
      "\u001b[32m\u001b[1m Installed\u001b[22m\u001b[39m LaTeXStrings ────── v1.0.3\n",
      "\u001b[32m\u001b[1m  Updating\u001b[22m\u001b[39m `~/Project.toml`\n",
      " \u001b[90m [d330b81b]\u001b[39m\u001b[92m + PyPlot v2.8.1\u001b[39m\n",
      "\u001b[32m\u001b[1m  Updating\u001b[22m\u001b[39m `~/Manifest.toml`\n",
      " \u001b[90m [3da002f7]\u001b[39m\u001b[92m + ColorTypes v0.7.5\u001b[39m\n",
      " \u001b[90m [5ae59095]\u001b[39m\u001b[92m + Colors v0.9.5\u001b[39m\n",
      " \u001b[90m [53c48c17]\u001b[39m\u001b[92m + FixedPointNumbers v0.5.3\u001b[39m\n",
      " \u001b[90m [b964fa9f]\u001b[39m\u001b[92m + LaTeXStrings v1.0.3\u001b[39m\n",
      " \u001b[90m [d330b81b]\u001b[39m\u001b[92m + PyPlot v2.8.1\u001b[39m\n",
      " \u001b[90m [189a3867]\u001b[39m\u001b[92m + Reexport v0.2.0\u001b[39m\n"
     ]
    }
   ],
   "source": [
    "import Pkg; Pkg.add(\"PyPlot\")"
   ]
  },
  {
   "cell_type": "code",
   "execution_count": null,
   "metadata": {},
   "outputs": [],
   "source": [
    "import Conda\n",
    "Conda.list()"
   ]
  },
  {
   "cell_type": "code",
   "execution_count": null,
   "metadata": {},
   "outputs": [],
   "source": []
  },
  {
   "cell_type": "markdown",
   "metadata": {},
   "source": [
    "## Update"
   ]
  },
  {
   "cell_type": "code",
   "execution_count": 2,
   "metadata": {},
   "outputs": [],
   "source": [
    "using Pkg\n",
    "Pkg.update(\"MathPhysicalConstants\")"
   ]
  },
  {
   "cell_type": "markdown",
   "metadata": {},
   "source": [
    "In addition, you will need to install the following dependencies if you do not already have them on your system.\n",
    "* Measurements. This is required by MathPhysicalConstants. On Ubuntu, you can get this by running `sudo apt-get install pdf2svg`. On Windows, you can download the binaries from http://www.cityinthesky.co.uk/opensource/pdf2svg/. Be sure to add pdf2svg to your path (and restart).\n",
    "* Pgf (version 3.0 or later). Install using your latex package manager (e.g., texlive or miktex).\n",
    "\n",
    "Once these things are installed, you should be able to run the following:"
   ]
  },
  {
   "cell_type": "code",
   "execution_count": 3,
   "metadata": {},
   "outputs": [],
   "source": [
    "using MathPhysicalConstants"
   ]
  },
  {
   "cell_type": "markdown",
   "metadata": {},
   "source": [
    "## Examples"
   ]
  },
  {
   "cell_type": "code",
   "execution_count": 38,
   "metadata": {},
   "outputs": [
    {
     "ename": "UndefVarError",
     "evalue": "UndefVarError: MathPhysicalConstants not defined",
     "output_type": "error",
     "traceback": [
      "UndefVarError: MathPhysicalConstants not defined",
      "",
      "Stacktrace:",
      " [1] top-level scope at In[38]:1"
     ]
    }
   ],
   "source": [
    "MathPhysicalConstants.SI.PlanckConstantH"
   ]
  },
  {
   "cell_type": "code",
   "execution_count": 30,
   "metadata": {},
   "outputs": [
    {
     "data": {
      "text/plain": [
       "0.7071067811865475"
      ]
     },
     "execution_count": 30,
     "metadata": {},
     "output_type": "execute_result"
    }
   ],
   "source": [
    "#python\n",
    "#import numpy\n",
    "#print(np.pi)\n",
    "using PyCall\n",
    "#math = pyimport(\"math\")\n",
    "@pyimport numpy\n",
    "numpy.sin(numpy.pi / 4) # returns ≈ 1/√2 = 0.70710678...\n",
    "#math.pi"
   ]
  },
  {
   "cell_type": "code",
   "execution_count": 65,
   "metadata": {},
   "outputs": [
    {
     "ename": "MethodError",
     "evalue": "MethodError: objects of type Module are not callable",
     "output_type": "error",
     "traceback": [
      "MethodError: objects of type Module are not callable",
      "",
      "Stacktrace:",
      " [1] top-level scope at In[65]:7"
     ]
    }
   ],
   "source": [
    "using PyPlot\n",
    "#using PyCall\n",
    "#@pyimport matplotlib.pyplot as plot\n",
    "#x = log(2)\n",
    "#y = log(1/4)\n",
    "f(x) = log(2^(x/4))\n",
    "\n",
    "plt(f, 0.0, 30.0)\n",
    "#plt(x,y)\n",
    "#grid(1,1)\n",
    "#x=rand(10)\n",
    "#y=rand(10)\n",
    "#plot(x,y)"
   ]
  },
  {
   "cell_type": "code",
   "execution_count": 43,
   "metadata": {},
   "outputs": [
    {
     "ename": "LoadError",
     "evalue": "syntax: invalid character literal",
     "output_type": "error",
     "traceback": [
      "syntax: invalid character literal",
      ""
     ]
    }
   ],
   "source": [
    "using PyCall\n",
    "@pyimport matplotlib.pyplot as pyplot\n",
    "@pyimport mpl_toolkits.mplot3d as mplot3d\n",
    "\n",
    "fig=figure(1, figsize=(7,7))\n",
    "ax = fig.gca(projection='3d')\n",
    "ax.scatter(FH[:,0],FH[:,1],FH[:,2],s=0.5)\n",
    "\n",
    "# plotting white points\n",
    "MAX = 3 # I wanted -3 to 3 in each direction\n",
    "for direction in (-1, 1):\n",
    "    for point in diag(direction * MAX * array([1,1,1])):\n",
    "        ax.plot([point[0]], [point[1]], [point[2]], 'w')\n",
    "\n",
    "show()"
   ]
  },
  {
   "cell_type": "code",
   "execution_count": 49,
   "metadata": {},
   "outputs": [
    {
     "ename": "UndefVarError",
     "evalue": "UndefVarError: figure not defined",
     "output_type": "error",
     "traceback": [
      "UndefVarError: figure not defined",
      "",
      "Stacktrace:",
      " [1] getproperty(::Module, ::Symbol) at ./sysimg.jl:13",
      " [2] top-level scope at In[49]:9"
     ]
    }
   ],
   "source": [
    "using PyCall\n",
    "@pyimport matplotlib.pyplot as plt\n",
    "@pyimport numpy as np\n",
    "#from mpl_toolkits.axes_grid1 import make_axes_locatable\n",
    "\n",
    "x = np.linspace(0,100,101)\n",
    "X, Y = np.meshgrid(x,x)\n",
    "data = np.sin(X/2.3)*np.cos(Y/2.7)*np.cos(X*Y/20.)\n",
    "\n",
    "fig = plt.figure(figsize=(10,5))\n",
    "ax1=fig.add_subplot(121)\n",
    "ax2=fig.add_subplot(122)\n",
    "plt.subplots_adjust(wspace = 0.33 )\n",
    "\n",
    "heatmap = ax1.pcolor(data, cmap=\"RdPu\")\n",
    "resmap =  ax2.scatter(X,Y, c=data, cmap=\"YlGnBu\",edgecolors='none',alpha=0.5)\n",
    "\n",
    "\n",
    "for ax in [ax1,ax2]:\n",
    "    ax.set_frame_on(False)\n",
    "\n",
    "    ax.set_aspect('equal')\n",
    "\n",
    "    ax.invert_yaxis()\n",
    "    ax.xaxis.tick_top()\n",
    "\n",
    "    ax.set_xmargin(0)\n",
    "    ax.set_ymargin(0)\n",
    "\n",
    "    ax.grid(False)\n",
    "\n",
    "    for t in ax.xaxis.get_major_ticks():\n",
    "        t.tick1On = False\n",
    "        t.tick2On = False\n",
    "    for t in ax.yaxis.get_major_ticks():\n",
    "        t.tick1On = False\n",
    "        t.tick2On = False\n",
    "\n",
    "    ax.set_xlim([x[0],x[-1]])\n",
    "    ax.set_ylim([x[0],x[-1]])\n",
    "\n",
    "\n",
    "#divider1 = make_axes_locatable(ax1)       \n",
    "#cax1 = divider1.append_axes(\"right\", size=\"5%\", pad=0.05)\n",
    "#plt.colorbar(heatmap,cax=cax1)\n",
    "\n",
    "#divider2 = make_axes_locatable(ax2)       \n",
    "#cax2 = divider2.append_axes(\"right\", size=\"5%\", pad=0.05)\n",
    "#plt.colorbar(resmap,cax=cax2)\n",
    "\n",
    "plt.show()"
   ]
  },
  {
   "cell_type": "code",
   "execution_count": 61,
   "metadata": {},
   "outputs": [
    {
     "ename": "MethodError",
     "evalue": "MethodError: objects of type Module are not callable",
     "output_type": "error",
     "traceback": [
      "MethodError: objects of type Module are not callable",
      "",
      "Stacktrace:",
      " [1] top-level scope at In[61]:5"
     ]
    }
   ],
   "source": [
    "\n",
    "using PyPlot\n",
    "x = [1:10;]\n",
    "y = 10rand(10,1)\n",
    "\n",
    "p = plot(x,y)\n",
    "xlabel(\"X\")\n",
    "ylabel(\"Y\")\n",
    "title(\"Your Title Goes Here\")\n",
    "grid(\"on\")\n",
    "gcf() # Needed by IJulia to display plot"
   ]
  },
  {
   "cell_type": "code",
   "execution_count": 60,
   "metadata": {},
   "outputs": [
    {
     "ename": "ErrorException",
     "evalue": "function Module does not accept keyword arguments",
     "output_type": "error",
     "traceback": [
      "function Module does not accept keyword arguments",
      "",
      "Stacktrace:",
      " [1] kwfunc(::Any) at ./boot.jl:330",
      " [2] (::getfield(Base.Broadcast, Symbol(\"##31#32\")){Base.Iterators.Pairs{Symbol,Any,Tuple{Symbol,Symbol,Symbol},NamedTuple{(:color, :linewidth, :linestyle),Tuple{String,Float64,String}}},Module})(::Float64, ::Vararg{Float64,N} where N) at ./broadcast.jl:1149",
      " [3] _broadcast_getindex_evalf at ./broadcast.jl:578 [inlined]",
      " [4] _broadcast_getindex at ./broadcast.jl:551 [inlined]",
      " [5] getindex at ./broadcast.jl:511 [inlined]",
      " [6] copy at ./broadcast.jl:787 [inlined]",
      " [7] materialize(::Base.Broadcast.Broadcasted{Base.Broadcast.DefaultArrayStyle{1},Nothing,getfield(Base.Broadcast, Symbol(\"##31#32\")){Base.Iterators.Pairs{Symbol,Any,Tuple{Symbol,Symbol,Symbol},NamedTuple{(:color, :linewidth, :linestyle),Tuple{String,Float64,String}}},Module},Tuple{Array{Float64,1},Array{Float64,1}}}) at ./broadcast.jl:753",
      " [8] top-level scope at In[60]:6"
     ]
    }
   ],
   "source": [
    "\n",
    "using PyCall\n",
    "@pyimport matplotlib.pyplot as plt\n",
    "@pyimport numpy as np\n",
    "x = np.linspace(0,2*pi,1000); y = np.sin(3*x + 4*np.cos(2*x));\n",
    "plt.(x, y, color=\"red\", linewidth=2.0, linestyle=\"--\")\n",
    "#plt.title(\"A sinusoidally modulated sinusoid\")\n",
    "plt.show()"
   ]
  },
  {
   "cell_type": "code",
   "execution_count": 52,
   "metadata": {},
   "outputs": [
    {
     "ename": "ErrorException",
     "evalue": "function Module does not accept keyword arguments",
     "output_type": "error",
     "traceback": [
      "function Module does not accept keyword arguments",
      "",
      "Stacktrace:",
      " [1] kwfunc(::Any) at ./boot.jl:330",
      " [2] top-level scope at In[52]:7"
     ]
    }
   ],
   "source": [
    "using PyCall\n",
    "@pyimport matplotlib.pyplot as plt\n",
    "@pyimport numpy as np\n",
    "\n",
    "x = rand(10)\n",
    "y = rand(10)\n",
    "plot(x=x,y=y)"
   ]
  },
  {
   "cell_type": "code",
   "execution_count": 64,
   "metadata": {},
   "outputs": [
    {
     "ename": "MethodError",
     "evalue": "MethodError: objects of type Module are not callable",
     "output_type": "error",
     "traceback": [
      "MethodError: objects of type Module are not callable",
      "",
      "Stacktrace:",
      " [1] top-level scope at In[64]:4"
     ]
    }
   ],
   "source": [
    "using PyPlot\n",
    "#@pyimport matplotlib.pyplot as plt\n",
    "f(x) = log(2^(x/4))\n",
    "\n",
    "plot(f, 0.0, 30.0)\n",
    "#plt."
   ]
  },
  {
   "cell_type": "code",
   "execution_count": 66,
   "metadata": {},
   "outputs": [
    {
     "ename": "MethodError",
     "evalue": "MethodError: objects of type Module are not callable",
     "output_type": "error",
     "traceback": [
      "MethodError: objects of type Module are not callable",
      "",
      "Stacktrace:",
      " [1] top-level scope at In[66]:5"
     ]
    }
   ],
   "source": [
    "\n",
    "using PyPlot\n",
    "x = [1:10;]\n",
    "y = 10rand(10,1)\n",
    "\n",
    "p = plot(x,y)\n",
    "xlabel(\"X\")\n",
    "ylabel(\"Y\")\n",
    "title(\"Your Title Goes Here\")\n",
    "grid(\"on\")\n",
    "gcf() # Needed by IJulia to display plot"
   ]
  },
  {
   "cell_type": "code",
   "execution_count": 9,
   "metadata": {},
   "outputs": [
    {
     "name": "stderr",
     "output_type": "stream",
     "text": [
      "┌ Info: Precompiling PyCall [438e738f-606a-5dbb-bf0a-cddfbfd45ab0]\n",
      "└ @ Base loading.jl:1186\n",
      "┌ Warning: `@pyimport foo` is deprecated in favor of `foo = pyimport(\"foo\")`.\n",
      "│   caller = _pywrap_pyimport(::PyObject) at PyCall.jl:407\n",
      "└ @ PyCall /srv/julia/pkg/packages/PyCall/ttONZ/src/PyCall.jl:407\n"
     ]
    },
    {
     "name": "stdout",
     "output_type": "stream",
     "text": [
      "3.141592653589793\n"
     ]
    }
   ],
   "source": [
    "using PyCall\n",
    "@pyimport numpy\n",
    "println(numpy.pi)"
   ]
  },
  {
   "cell_type": "markdown",
   "metadata": {},
   "source": [
    "Gradually, more functionality will be added into this package."
   ]
  }
 ],
 "metadata": {
  "kernelspec": {
   "display_name": "Julia 1.1.0",
   "language": "julia",
   "name": "julia-1.1"
  },
  "language_info": {
   "file_extension": ".jl",
   "mimetype": "application/julia",
   "name": "julia",
   "version": "1.1.0"
  }
 },
 "nbformat": 4,
 "nbformat_minor": 1
}
