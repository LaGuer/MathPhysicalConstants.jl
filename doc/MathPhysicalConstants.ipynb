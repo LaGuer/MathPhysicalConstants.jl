{
 "cells": [
  {
   "cell_type": "markdown",
   "metadata": {},
   "source": [
    "# MathPhysicalConstants"
   ]
  },
  {
   "cell_type": "markdown",
   "metadata": {},
   "source": [
    "This library contains Mathematical and Physical Constants to produce macro and micro-physics relations. It integrates with IJulia, outputting mathematical and Physical Constants to the notebook.\n",
    "\n",
    "search: ⊻ ⊋ ⊊ ⊉ ⊈ ⊇ ⊆ ≥ ≤ ≢ ≡ ≠ ≉ ≈ ∪ ∩ ∛ √ ∘ ∌ ∋ ∉ ∈ ℯ π ÷ ~ | ^ \\ > < : / - +"
   ]
  },
  {
   "cell_type": "markdown",
   "metadata": {},
   "source": [
    "## Pre requisite"
   ]
  },
  {
   "cell_type": "markdown",
   "metadata": {},
   "source": [
    "Add Conda"
   ]
  },
  {
   "cell_type": "code",
   "execution_count": 2,
   "metadata": {},
   "outputs": [
    {
     "name": "stdout",
     "output_type": "stream",
     "text": [
      "\u001b[32m\u001b[1m  Updating\u001b[22m\u001b[39m registry at `/srv/julia/pkg/registries/General`\n",
      "\u001b[32m\u001b[1m  Updating\u001b[22m\u001b[39m git-repo `https://github.com/JuliaRegistries/General.git`\n",
      "\u001b[?25l\u001b[2K\u001b[?25h\u001b[32m\u001b[1m Resolving\u001b[22m\u001b[39m package versions...\n",
      "\u001b[32m\u001b[1m  Updating\u001b[22m\u001b[39m `/srv/julia/pkg/environments/v0.7/Project.toml`\n",
      " \u001b[90m [8f4d0f93]\u001b[39m\u001b[92m + Conda v1.3.0\u001b[39m\n",
      "\u001b[32m\u001b[1m  Updating\u001b[22m\u001b[39m `/srv/julia/pkg/environments/v0.7/Manifest.toml`\n",
      "\u001b[90m [no changes]\u001b[39m\n"
     ]
    }
   ],
   "source": [
    "import Pkg;\n",
    "Pkg.add(\"Conda\")"
   ]
  },
  {
   "cell_type": "markdown",
   "metadata": {},
   "source": [
    "set the environment variables"
   ]
  },
  {
   "cell_type": "code",
   "execution_count": 3,
   "metadata": {},
   "outputs": [
    {
     "data": {
      "text/plain": [
       "\"/srv/julia/pkg/conda/3\""
      ]
     },
     "execution_count": 3,
     "metadata": {},
     "output_type": "execute_result"
    }
   ],
   "source": [
    "#ENV[\"PYTHON\"] = \"/srv/conda/bin/python3\"\n",
    "ENV[\"PYTHON\"] = \"/srv/julia/pkg/conda/3\"\n",
    "# ENV[\"PYTHON\"] = \"C:\\\\Python37-x64\\\\python.exe\" # example for Windows\n",
    "# ENV[\"PYTHON\"] = \"/usr/bin/python3.7\"           # example for *nix\n",
    "#Pkg.build(\"PyCall\")"
   ]
  },
  {
   "cell_type": "markdown",
   "metadata": {},
   "source": [
    "Add PyCall"
   ]
  },
  {
   "cell_type": "code",
   "execution_count": 28,
   "metadata": {},
   "outputs": [
    {
     "name": "stdout",
     "output_type": "stream",
     "text": [
      "\u001b[32m\u001b[1m Resolving\u001b[22m\u001b[39m package versions...\n"
     ]
    },
    {
     "name": "stderr",
     "output_type": "stream",
     "text": [
      "┌ Warning: julia version requirement for package PhysicalConstant not satisfied\n",
      "└ @ Pkg.Operations /buildworker/worker/package_linux64/build/usr/share/julia/stdlib/v0.7/Pkg/src/Operations.jl:143\n"
     ]
    },
    {
     "name": "stdout",
     "output_type": "stream",
     "text": [
      "\u001b[32m\u001b[1m Installed\u001b[22m\u001b[39m MacroTools ─ v0.4.5\n",
      "\u001b[32m\u001b[1m Installed\u001b[22m\u001b[39m PyCall ───── v1.91.2\n",
      "\u001b[32m\u001b[1m  Updating\u001b[22m\u001b[39m `/srv/julia/pkg/environments/v0.7/Project.toml`\n",
      " \u001b[90m [438e738f]\u001b[39m\u001b[92m + PyCall v1.91.2\u001b[39m\n",
      "\u001b[32m\u001b[1m  Updating\u001b[22m\u001b[39m `/srv/julia/pkg/environments/v0.7/Manifest.toml`\n",
      " \u001b[90m [1914dd2f]\u001b[39m\u001b[92m + MacroTools v0.4.5\u001b[39m\n",
      " \u001b[90m [438e738f]\u001b[39m\u001b[92m + PyCall v1.91.2\u001b[39m\n",
      "\u001b[32m\u001b[1m  Building\u001b[22m\u001b[39m PyCall → `/srv/julia/pkg/packages/PyCall/ttONZ/deps/build.log`\n"
     ]
    }
   ],
   "source": [
    "import Pkg; Pkg.add(\"PyCall\")"
   ]
  },
  {
   "cell_type": "code",
   "execution_count": null,
   "metadata": {},
   "outputs": [],
   "source": [
    "#Pkg.build(\"PyCall\")\n",
    "using Conda\n",
    "#Conda.add(\"matplotlib\", :my_env)\n",
    "Conda.add(\"matplotlib\", \"/srv/julia/pkg/conda/3\")\n"
   ]
  },
  {
   "cell_type": "code",
   "execution_count": null,
   "metadata": {},
   "outputs": [],
   "source": [
    "using Conda\n",
    "Conda.add(\"numpy\", \"/srv/julia/pkg/conda/3\")"
   ]
  },
  {
   "cell_type": "code",
   "execution_count": null,
   "metadata": {},
   "outputs": [],
   "source": [
    "using Conda\n",
    "Conda.add(\"PyLab\", \"/srv/julia/pkg/conda/3\")"
   ]
  },
  {
   "cell_type": "markdown",
   "metadata": {},
   "source": [
    "## Pkg Status"
   ]
  },
  {
   "cell_type": "markdown",
   "metadata": {},
   "source": [
    "List all Conda modules"
   ]
  },
  {
   "cell_type": "code",
   "execution_count": null,
   "metadata": {},
   "outputs": [],
   "source": [
    "import Conda\n",
    "Conda.list()"
   ]
  },
  {
   "cell_type": "markdown",
   "metadata": {},
   "source": [
    "Check if MathPhysicalConstants is installed"
   ]
  },
  {
   "cell_type": "code",
   "execution_count": 6,
   "metadata": {},
   "outputs": [
    {
     "name": "stdout",
     "output_type": "stream",
     "text": [
      "\u001b[32m\u001b[1m    Status\u001b[22m\u001b[39m `/srv/julia/pkg/environments/v0.7/Project.toml`\n",
      " \u001b[90m [49dc2e85]\u001b[39m\u001b[37m Calculus v0.4.1\u001b[39m\n",
      " \u001b[90m [8f4d0f93]\u001b[39m\u001b[37m Conda v1.3.0\u001b[39m\n",
      " \u001b[90m [e30172f5]\u001b[39m\u001b[37m Documenter v0.22.6\u001b[39m\n",
      " \u001b[90m [7073ff75]\u001b[39m\u001b[37m IJulia v1.20.2\u001b[39m\n",
      " \u001b[90m [b5851bab]\u001b[39m\u001b[37m MathPhysicalConstants v0.0.5+ [`/srv/julia/pkg/dev/MathPhysicalConstants`]\u001b[39m\n",
      " \u001b[90m [eff96d63]\u001b[39m\u001b[37m Measurements v1.0.2\u001b[39m\n",
      " \u001b[90m [988cf3cc]\u001b[39m\u001b[37m PhysicalConstant v0.0.3 [`/srv/julia/pkg/dev/PhysicalConstant`]\u001b[39m\n",
      " \u001b[90m [1fd47b50]\u001b[39m\u001b[37m QuadGK v2.3.1\u001b[39m\n",
      " \u001b[90m [3cdcf5f2]\u001b[39m\u001b[37m RecipesBase v0.5.0\u001b[39m\n",
      " \u001b[90m [ae029012]\u001b[39m\u001b[37m Requires v0.5.2\u001b[39m\n",
      " \u001b[90m [276daf66]\u001b[39m\u001b[37m SpecialFunctions v0.8.0\u001b[39m\n",
      " \u001b[90m [1986cc42]\u001b[39m\u001b[37m Unitful v0.17.0\u001b[39m\n"
     ]
    }
   ],
   "source": [
    "import Pkg; Pkg.status()"
   ]
  },
  {
   "cell_type": "markdown",
   "metadata": {},
   "source": [
    "## Pkg Installation / Pkg De-installation"
   ]
  },
  {
   "cell_type": "markdown",
   "metadata": {},
   "source": [
    "To remove the package run"
   ]
  },
  {
   "cell_type": "code",
   "execution_count": null,
   "metadata": {},
   "outputs": [],
   "source": [
    "using Pkg\n",
    "Pkg.rm(\"MathPhysicalConstants\")"
   ]
  },
  {
   "cell_type": "markdown",
   "metadata": {},
   "source": [
    "To install the package run"
   ]
  },
  {
   "cell_type": "code",
   "execution_count": 5,
   "metadata": {},
   "outputs": [
    {
     "name": "stderr",
     "output_type": "stream",
     "text": [
      "┌ Warning: Pkg.clone is only kept for legacy CI script reasons, please use `add`\n",
      "└ @ Pkg.API /buildworker/worker/package_linux64/build/usr/share/julia/stdlib/v0.7/Pkg/src/API.jl:445\n"
     ]
    },
    {
     "name": "stdout",
     "output_type": "stream",
     "text": [
      "\u001b[32m\u001b[1m   Cloning\u001b[22m\u001b[39m git-repo `https://github.com/laguer/MathPhysicalConstants.jl`\n",
      "\u001b[2K\u001b[?25h\u001b[32m\u001b[1m  Updating\u001b[22m\u001b[39m git-repo `https://github.com/laguer/MathPhysicalConstants.jl`\n",
      "\u001b[2K\u001b[?25h\u001b[32m\u001b[1m Resolving\u001b[22m\u001b[39m package versions...\n",
      "\u001b[32m\u001b[1m  Updating\u001b[22m\u001b[39m `/srv/julia/pkg/environments/v0.7/Project.toml`\n",
      " \u001b[90m [b5851bab]\u001b[39m\u001b[92m + MathPhysicalConstants v0.0.5+ [`/srv/julia/pkg/dev/MathPhysicalConstants`]\u001b[39m\n",
      "\u001b[32m\u001b[1m  Updating\u001b[22m\u001b[39m `/srv/julia/pkg/environments/v0.7/Manifest.toml`\n",
      " \u001b[90m [b5851bab]\u001b[39m\u001b[92m + MathPhysicalConstants v0.0.5+ [`/srv/julia/pkg/dev/MathPhysicalConstants`]\u001b[39m\n",
      "\u001b[32m\u001b[1m   Cloning\u001b[22m\u001b[39m git-repo `https://github.com/laguer/PhysicalConstant.jl`\n",
      "\u001b[?25l    "
     ]
    },
    {
     "name": "stderr",
     "output_type": "stream",
     "text": [
      "┌ Warning: Pkg.clone is only kept for legacy CI script reasons, please use `add`\n",
      "└ @ Pkg.API /buildworker/worker/package_linux64/build/usr/share/julia/stdlib/v0.7/Pkg/src/API.jl:445\n"
     ]
    },
    {
     "name": "stdout",
     "output_type": "stream",
     "text": [
      "\u001b[2K\u001b[?25h\u001b[32m\u001b[1m  Updating\u001b[22m\u001b[39m git-repo `https://github.com/laguer/PhysicalConstant.jl`\n",
      "\u001b[?25l\u001b[2K\u001b[?25h\u001b[32m\u001b[1m Resolving\u001b[22m\u001b[39m package versions...\n"
     ]
    },
    {
     "name": "stderr",
     "output_type": "stream",
     "text": [
      "┌ Warning: julia version requirement for package PhysicalConstant not satisfied\n",
      "└ @ Pkg.Operations /buildworker/worker/package_linux64/build/usr/share/julia/stdlib/v0.7/Pkg/src/Operations.jl:143\n"
     ]
    },
    {
     "name": "stdout",
     "output_type": "stream",
     "text": [
      "\u001b[32m\u001b[1m  Updating\u001b[22m\u001b[39m `/srv/julia/pkg/environments/v0.7/Project.toml`\n",
      " \u001b[90m [988cf3cc]\u001b[39m\u001b[92m + PhysicalConstant v0.0.3 [`/srv/julia/pkg/dev/PhysicalConstant`]\u001b[39m\n",
      "\u001b[32m\u001b[1m  Updating\u001b[22m\u001b[39m `/srv/julia/pkg/environments/v0.7/Manifest.toml`\n",
      " \u001b[90m [988cf3cc]\u001b[39m\u001b[92m + PhysicalConstant v0.0.3 [`/srv/julia/pkg/dev/PhysicalConstant`]\u001b[39m\n"
     ]
    }
   ],
   "source": [
    "using Pkg\n",
    "Pkg.clone(\"https://github.com/laguer/MathPhysicalConstants.jl\")\n",
    "Pkg.clone(\"https://github.com/laguer/PhysicalConstant.jl\")"
   ]
  },
  {
   "cell_type": "markdown",
   "metadata": {},
   "source": [
    "Install PyPlot "
   ]
  },
  {
   "cell_type": "code",
   "execution_count": null,
   "metadata": {},
   "outputs": [],
   "source": [
    "import Pkg; Pkg.add(\"PyPlot\")"
   ]
  },
  {
   "cell_type": "code",
   "execution_count": null,
   "metadata": {},
   "outputs": [],
   "source": [
    "#import Pkg; Pkg.add(\"PyLab\")"
   ]
  },
  {
   "cell_type": "markdown",
   "metadata": {},
   "source": [
    "## Update"
   ]
  },
  {
   "cell_type": "code",
   "execution_count": 2,
   "metadata": {},
   "outputs": [],
   "source": [
    "using Pkg\n",
    "Pkg.update(\"MathPhysicalConstants\")"
   ]
  },
  {
   "cell_type": "markdown",
   "metadata": {},
   "source": [
    "In addition, you will need to install the following dependencies if you do not already have them on your system.\n",
    "* Measurements. This is required by MathPhysicalConstants. On Ubuntu, you can get this by running `sudo apt-get install pdf2svg`. On Windows, you can download the binaries from http://www.cityinthesky.co.uk/opensource/pdf2svg/. Be sure to add pdf2svg to your path (and restart).\n",
    "* Pgf (version 3.0 or later). Install using your latex package manager (e.g., texlive or miktex).\n",
    "\n",
    "Once these things are installed, you should be able to run the following:"
   ]
  },
  {
   "cell_type": "markdown",
   "metadata": {},
   "source": [
    "## Examples"
   ]
  },
  {
   "cell_type": "code",
   "execution_count": 7,
   "metadata": {},
   "outputs": [
    {
     "name": "stderr",
     "output_type": "stream",
     "text": [
      "┌ Info: Precompiling MathPhysicalConstants [b5851bab-7749-5a5f-a75f-46072e3516e8]\n",
      "└ @ Base loading.jl:1187\n"
     ]
    }
   ],
   "source": [
    "using MathPhysicalConstants.SI\n",
    "using Measurements"
   ]
  },
  {
   "cell_type": "markdown",
   "metadata": {},
   "source": [
    "Planck's h constant"
   ]
  },
  {
   "cell_type": "code",
   "execution_count": 9,
   "metadata": {},
   "outputs": [
    {
     "data": {
      "text/plain": [
       "6.62607015e-34"
      ]
     },
     "execution_count": 9,
     "metadata": {},
     "output_type": "execute_result"
    }
   ],
   "source": [
    "SI.PlanckConstantH"
   ]
  },
  {
   "cell_type": "markdown",
   "metadata": {},
   "source": [
    "Electron Compton Wavelength"
   ]
  },
  {
   "cell_type": "code",
   "execution_count": 12,
   "metadata": {},
   "outputs": [
    {
     "data": {
      "text/plain": [
       "3.861592046068738e-13"
      ]
     },
     "execution_count": 12,
     "metadata": {},
     "output_type": "execute_result"
    }
   ],
   "source": [
    "SI.ƛe"
   ]
  },
  {
   "cell_type": "markdown",
   "metadata": {},
   "source": [
    "Electron Compton Wavelength equation:\n",
    "\n",
    "ƛ$_{e}$=$\\hbar/m_{e}\\cdot c$"
   ]
  },
  {
   "cell_type": "code",
   "execution_count": 13,
   "metadata": {},
   "outputs": [
    {
     "data": {
      "text/plain": [
       "3.861592676452718338399364915357181343914809630867925459864883008800725803939552e-13"
      ]
     },
     "execution_count": 13,
     "metadata": {},
     "output_type": "execute_result"
    }
   ],
   "source": [
    "# Reduced electron Compton wavelength\n",
    "big(2.4263102367*10^-12)/big(2pi)"
   ]
  },
  {
   "cell_type": "code",
   "execution_count": 14,
   "metadata": {},
   "outputs": [
    {
     "data": {
      "text/plain": [
       "3.861592046068738e-13"
      ]
     },
     "execution_count": 14,
     "metadata": {},
     "output_type": "execute_result"
    }
   ],
   "source": [
    "SI.PlanckConstantHbar/(SI.MassElectron*SI.c)"
   ]
  },
  {
   "cell_type": "markdown",
   "metadata": {},
   "source": [
    "ΔνCs\n",
    "the unperturbed ground state hyperfine transition frequency of the caesium-133 atom in Hz"
   ]
  },
  {
   "cell_type": "code",
   "execution_count": 15,
   "metadata": {},
   "outputs": [
    {
     "data": {
      "text/plain": [
       "9.19263177e+09"
      ]
     },
     "execution_count": 15,
     "metadata": {},
     "output_type": "execute_result"
    }
   ],
   "source": [
    "Measurements.value(big(SI.ΔνCs))"
   ]
  },
  {
   "cell_type": "markdown",
   "metadata": {},
   "source": [
    "Electron Proton Hydrogen product\n",
    "\n",
    "$m_e.m_p.m_H$"
   ]
  },
  {
   "cell_type": "code",
   "execution_count": 16,
   "metadata": {},
   "outputs": [
    {
     "name": "stdout",
     "output_type": "stream",
     "text": [
      "  0.003393 seconds (289 allocations: 15.672 KiB)\n"
     ]
    },
    {
     "data": {
      "text/plain": [
       "2.550178071499845191383898081092660664856847100303471018620561488238203907897864e-84"
      ]
     },
     "execution_count": 16,
     "metadata": {},
     "output_type": "execute_result"
    }
   ],
   "source": [
    "@time begin\n",
    "using MathPhysicalConstants\n",
    "big(SI.MassElectron*SI.MassProton*SI.MassHydrogen)\n",
    "end"
   ]
  },
  {
   "cell_type": "code",
   "execution_count": 17,
   "metadata": {},
   "outputs": [
    {
     "data": {
      "text/plain": [
       "3.8877084059945686877402831236617906547557888982098378752e+55"
      ]
     },
     "execution_count": 17,
     "metadata": {},
     "output_type": "execute_result"
    }
   ],
   "source": [
    "Measurements.value(big((SI.e^128)-1))"
   ]
  },
  {
   "cell_type": "markdown",
   "metadata": {},
   "source": [
    "# How to calculate the visible Universe horizon radius"
   ]
  },
  {
   "cell_type": "markdown",
   "metadata": {},
   "source": [
    "Using the regular CODATA2019 Gravitational Constant"
   ]
  },
  {
   "cell_type": "code",
   "execution_count": 18,
   "metadata": {},
   "outputs": [
    {
     "data": {
      "text/plain": [
       "6.67408e-11"
      ]
     },
     "execution_count": 18,
     "metadata": {},
     "output_type": "execute_result"
    }
   ],
   "source": [
    "SI.GravitationalConstant"
   ]
  },
  {
   "cell_type": "markdown",
   "metadata": {},
   "source": [
    "Using Sanchez's Gravitational Constant"
   ]
  },
  {
   "cell_type": "code",
   "execution_count": 19,
   "metadata": {},
   "outputs": [
    {
     "data": {
      "text/plain": [
       "6.675453818e-11"
      ]
     },
     "execution_count": 19,
     "metadata": {},
     "output_type": "execute_result"
    }
   ],
   "source": [
    "SI.SanchezGravitationalConstant"
   ]
  },
  {
   "cell_type": "markdown",
   "metadata": {},
   "source": [
    "## Let's first determine the gravitational coupling constant: \n",
    "\n",
    "One determines the Gravitational Coupling Constant: \n",
    "### $$a_{G}=\\frac{\\hbar.c}{G.m_{p}.m_{H}}$$"
   ]
  },
  {
   "cell_type": "code",
   "execution_count": 35,
   "metadata": {},
   "outputs": [
    {
     "data": {
      "text/plain": [
       "1.32613243113089e-69"
      ]
     },
     "execution_count": 35,
     "metadata": {},
     "output_type": "execute_result"
    }
   ],
   "source": [
    "# $a_{G'}$ = $\\hbar$$c$/$G'$$m_{p}$$m_{H}$\n",
    "SI.PlanckConstantHbar*SI.c/SI.GravitationalConstant*SI.MassProton*SI.MassHydrogen"
   ]
  },
  {
   "cell_type": "code",
   "execution_count": 36,
   "metadata": {},
   "outputs": [
    {
     "data": {
      "text/plain": [
       "1.3258595111686009e-69"
      ]
     },
     "execution_count": 36,
     "metadata": {},
     "output_type": "execute_result"
    }
   ],
   "source": [
    "# $a_{G}$ = $\\hbar$$c$/$G$$m_{p}$$m_{H}$\n",
    "SI.PlanckConstantHbar*SI.c/SI.SanchezGravitationalConstant*SI.MassProton*SI.MassHydrogen"
   ]
  },
  {
   "cell_type": "markdown",
   "metadata": {},
   "source": [
    "## Visible Universe horizon radius calculus -distance- (method 1)\n",
    "\n",
    "### $R$ $=$ $2a_{G}$ƛ$_{e}$"
   ]
  },
  {
   "cell_type": "markdown",
   "metadata": {},
   "source": [
    "Using the regular CODATA2019 Gravitational Constant"
   ]
  },
  {
   "cell_type": "code",
   "execution_count": 33,
   "metadata": {},
   "outputs": [
    {
     "data": {
      "text/plain": [
       "1.3068334634480155e26"
      ]
     },
     "execution_count": 33,
     "metadata": {},
     "output_type": "execute_result"
    }
   ],
   "source": [
    "# R1 = 2a_{G'} \\lambdabar_{e}\n",
    "R1 = 2*((SI.PlanckConstantHbar*SI.c)/(SI.GravitationalConstant*SI.MassProton*SI.MassHydrogen))*SI.ƛe"
   ]
  },
  {
   "cell_type": "markdown",
   "metadata": {},
   "source": [
    "Using Francis M. Sanchez's Gravitational Constant"
   ]
  },
  {
   "cell_type": "code",
   "execution_count": 34,
   "metadata": {},
   "outputs": [
    {
     "data": {
      "text/plain": [
       "1.3065645152410416e26"
      ]
     },
     "execution_count": 34,
     "metadata": {},
     "output_type": "execute_result"
    }
   ],
   "source": [
    "# R2 = 2a_{G} \\lambdabar_{e}\n",
    "R2 = 2*((SI.PlanckConstantHbar*SI.c)/(SI.SanchezGravitationalConstant*SI.MassProton*SI.MassHydrogen))*SI.ƛe"
   ]
  },
  {
   "cell_type": "markdown",
   "metadata": {},
   "source": [
    "## Calculate the result in ly (LightYears) and Gly equivalent\n",
    "\n",
    "Notice that one obtain a distance equivalent to 1.3813524253217268e10 ly or 13.813524253217268 Gly"
   ]
  },
  {
   "cell_type": "markdown",
   "metadata": {},
   "source": [
    "Using the regular CODATA2019 Gravitational Constant"
   ]
  },
  {
   "cell_type": "code",
   "execution_count": 23,
   "metadata": {},
   "outputs": [
    {
     "data": {
      "text/plain": [
       "1.3813524253217268e10"
      ]
     },
     "execution_count": 23,
     "metadata": {},
     "output_type": "execute_result"
    }
   ],
   "source": [
    "R1/SI.LightYear"
   ]
  },
  {
   "cell_type": "code",
   "execution_count": 21,
   "metadata": {},
   "outputs": [
    {
     "data": {
      "text/plain": [
       "13.813524253217269"
      ]
     },
     "execution_count": 21,
     "metadata": {},
     "output_type": "execute_result"
    }
   ],
   "source": [
    "R1/SI.GigaLightYear"
   ]
  },
  {
   "cell_type": "markdown",
   "metadata": {},
   "source": [
    "Using Francis M. Sanchez's Gravitational Constant"
   ]
  },
  {
   "cell_type": "code",
   "execution_count": 22,
   "metadata": {},
   "outputs": [
    {
     "data": {
      "text/plain": [
       "1.3810681410051859e10"
      ]
     },
     "execution_count": 22,
     "metadata": {},
     "output_type": "execute_result"
    }
   ],
   "source": [
    "R2/SI.LightYear"
   ]
  },
  {
   "cell_type": "code",
   "execution_count": 24,
   "metadata": {},
   "outputs": [
    {
     "data": {
      "text/plain": [
       "13.810681410051858"
      ]
     },
     "execution_count": 24,
     "metadata": {},
     "output_type": "execute_result"
    }
   ],
   "source": [
    "R2/SI.GigaLightYear"
   ]
  },
  {
   "cell_type": "markdown",
   "metadata": {},
   "source": [
    "## Grand Cosmos Radius Calculus : $$R_{3mn}$$"
   ]
  },
  {
   "cell_type": "code",
   "execution_count": null,
   "metadata": {},
   "outputs": [],
   "source": []
  },
  {
   "cell_type": "markdown",
   "metadata": {},
   "source": [
    "$$\\beta'=1-1/2a'^2$$ or $$\\beta=1/(\\sqrt(1-(1/a^2)))$$"
   ]
  },
  {
   "cell_type": "markdown",
   "metadata": {},
   "source": [
    "$$m_H=m_p+\\beta$$"
   ]
  },
  {
   "cell_type": "markdown",
   "metadata": {},
   "source": [
    "$$a'=a(H/p)$$"
   ]
  },
  {
   "cell_type": "code",
   "execution_count": 50,
   "metadata": {},
   "outputs": [
    {
     "data": {
      "text/plain": [
       "137.035999139"
      ]
     },
     "execution_count": 50,
     "metadata": {},
     "output_type": "execute_result"
    }
   ],
   "source": [
    "a=SI.SanchezElectrConstant"
   ]
  },
  {
   "cell_type": "code",
   "execution_count": 55,
   "metadata": {},
   "outputs": [
    {
     "data": {
      "text/plain": [
       "0.9999733743227611"
      ]
     },
     "execution_count": 55,
     "metadata": {},
     "output_type": "execute_result"
    }
   ],
   "source": [
    "betaprime=1-(1/(2*a^2))"
   ]
  },
  {
   "cell_type": "code",
   "execution_count": 57,
   "metadata": {},
   "outputs": [
    {
     "data": {
      "text/plain": [
       "1.0000266263861843"
      ]
     },
     "execution_count": 57,
     "metadata": {},
     "output_type": "execute_result"
    }
   ],
   "source": [
    "1/betaprime"
   ]
  },
  {
   "cell_type": "code",
   "execution_count": 56,
   "metadata": {},
   "outputs": [
    {
     "data": {
      "text/plain": [
       "1.0000266267406759"
      ]
     },
     "execution_count": 56,
     "metadata": {},
     "output_type": "execute_result"
    }
   ],
   "source": [
    "beta=1/(np.sqrt(1-(1/a^2)))"
   ]
  },
  {
   "cell_type": "code",
   "execution_count": 52,
   "metadata": {},
   "outputs": [
    {
     "data": {
      "text/plain": [
       "1.672621898e-27"
      ]
     },
     "execution_count": 52,
     "metadata": {},
     "output_type": "execute_result"
    }
   ],
   "source": [
    "m_p=SI.MassProton"
   ]
  },
  {
   "cell_type": "code",
   "execution_count": 53,
   "metadata": {},
   "outputs": [
    {
     "data": {
      "text/plain": [
       "1.0000266267406759"
      ]
     },
     "execution_count": 53,
     "metadata": {},
     "output_type": "execute_result"
    }
   ],
   "source": [
    "m_p+beta"
   ]
  },
  {
   "cell_type": "code",
   "execution_count": 65,
   "metadata": {},
   "outputs": [
    {
     "data": {
      "text/plain": [
       "8.193103780649673e28"
      ]
     },
     "execution_count": 65,
     "metadata": {},
     "output_type": "execute_result"
    }
   ],
   "source": [
    "aprime=a*(m_H/m_p)"
   ]
  },
  {
   "cell_type": "markdown",
   "metadata": {},
   "source": [
    "## Universe horizon radius calculus (method 2) in 3 minutes: $$R_{3mn}$$"
   ]
  },
  {
   "cell_type": "markdown",
   "metadata": {},
   "source": [
    "$$R_{3mn}=\\frac{2.\\hbar^2}{G.m_e.m_p.m_n}$$"
   ]
  },
  {
   "cell_type": "code",
   "execution_count": 12,
   "metadata": {},
   "outputs": [
    {
     "data": {
      "text/plain": [
       "1.3056254088279212e26"
      ]
     },
     "execution_count": 12,
     "metadata": {},
     "output_type": "execute_result"
    }
   ],
   "source": [
    "R3mn=(2*SI.PlanckConstantHbar^2)/(SI.SanchezGravitationalConstant*SI.MassElectron*SI.MassProton*SI.MassNeutron)"
   ]
  },
  {
   "cell_type": "code",
   "execution_count": 13,
   "metadata": {},
   "outputs": [
    {
     "data": {
      "text/plain": [
       "1.3800754843601864e10"
      ]
     },
     "execution_count": 13,
     "metadata": {},
     "output_type": "execute_result"
    }
   ],
   "source": [
    "1.3056254088279212e26/SI.LightYear"
   ]
  },
  {
   "cell_type": "code",
   "execution_count": 14,
   "metadata": {},
   "outputs": [
    {
     "data": {
      "text/plain": [
       "1.3800754843601864e10"
      ]
     },
     "execution_count": 14,
     "metadata": {},
     "output_type": "execute_result"
    }
   ],
   "source": [
    "R3mn/SI.LightYear"
   ]
  },
  {
   "cell_type": "code",
   "execution_count": 15,
   "metadata": {},
   "outputs": [
    {
     "data": {
      "text/plain": [
       "13.800754843601865"
      ]
     },
     "execution_count": 15,
     "metadata": {},
     "output_type": "execute_result"
    }
   ],
   "source": [
    "R3mn/SI.GigaLightYear"
   ]
  },
  {
   "cell_type": "markdown",
   "metadata": {},
   "source": [
    "# Nambu Universe Radius calculus in 3 minutes (method 3)\n",
    "$$R_N=\\frac{2.\\hbar^2}{G.(m_N)^3}$$"
   ]
  },
  {
   "cell_type": "markdown",
   "metadata": {},
   "source": [
    "With Nambu mass $$m_N=m_e.a$$ and $$a=1/\\alpha$$"
   ]
  },
  {
   "cell_type": "code",
   "execution_count": 17,
   "metadata": {},
   "outputs": [
    {
     "name": "stdout",
     "output_type": "stream",
     "text": [
      "1.7132461922203357e26"
     ]
    }
   ],
   "source": [
    "R_N=2*SI.PlanckConstantHbar^2/(SI.GravitationalConstant*((SI.SanchezElectrConstant)*SI.MassElectron)^3)\n",
    "print(R_N)"
   ]
  },
  {
   "cell_type": "code",
   "execution_count": 21,
   "metadata": {},
   "outputs": [
    {
     "data": {
      "text/plain": [
       "18.109398396890033"
      ]
     },
     "execution_count": 21,
     "metadata": {},
     "output_type": "execute_result"
    }
   ],
   "source": [
    "R_N/(SI.LightYear*10^9)"
   ]
  },
  {
   "cell_type": "markdown",
   "metadata": {},
   "source": [
    "# Eddington Universe Radius calculus in 3 minutes (method 4)\n",
    "$$R_{Edd}=\\frac{2.\\hbar^2}{G.m_e.m_p^2}$$"
   ]
  },
  {
   "cell_type": "code",
   "execution_count": 24,
   "metadata": {},
   "outputs": [
    {
     "name": "stdout",
     "output_type": "stream",
     "text": [
      "1.3076942324251935e26"
     ]
    }
   ],
   "source": [
    "R_Edd=2*SI.PlanckConstantHbar^2/(SI.GravitationalConstant*SI.MassElectron*SI.MassProton^2)\n",
    "print(R_Edd)"
   ]
  },
  {
   "cell_type": "code",
   "execution_count": 25,
   "metadata": {},
   "outputs": [
    {
     "data": {
      "text/plain": [
       "13.822622775313032"
      ]
     },
     "execution_count": 25,
     "metadata": {},
     "output_type": "execute_result"
    }
   ],
   "source": [
    "R_Edd/(SI.GigaLightYear)"
   ]
  },
  {
   "cell_type": "markdown",
   "metadata": {},
   "source": [
    "# Francis M. Sanchez Universe Radius calculus in 3 minutes (method 5)\n",
    "$$R_{Francis.M.Sanchez}=ƛ_e.g(6)$$"
   ]
  },
  {
   "cell_type": "markdown",
   "metadata": {},
   "source": [
    "With $$g(k)=exp(2^{k+1/2})/k$$ when $$k=6$$\n",
    "And $$ƛ_e=\\frac{\\hbar}{m_e.c}$$ as the reduced Compton electron wavelength radius"
   ]
  },
  {
   "cell_type": "code",
   "execution_count": 32,
   "metadata": {},
   "outputs": [
    {
     "name": "stdout",
     "output_type": "stream",
     "text": [
      "1.3075686776359582e26"
     ]
    }
   ],
   "source": [
    "using PyCall\n",
    "@pyimport numpy\n",
    "R_FMS=(SI.PlanckConstantHbar/(SI.MassElectron*SI.c))*numpy.exp(2^(6+(1/2)))/6\n",
    "print(R_FMS)"
   ]
  },
  {
   "cell_type": "code",
   "execution_count": 31,
   "metadata": {},
   "outputs": [
    {
     "data": {
      "text/plain": [
       "13.821295632892273"
      ]
     },
     "execution_count": 31,
     "metadata": {},
     "output_type": "execute_result"
    }
   ],
   "source": [
    "R_FMS/(SI.GigaLightYear)"
   ]
  },
  {
   "cell_type": "code",
   "execution_count": null,
   "metadata": {},
   "outputs": [],
   "source": []
  },
  {
   "cell_type": "markdown",
   "metadata": {},
   "source": [
    "## Other MathPhysicalConstants Examples"
   ]
  },
  {
   "cell_type": "code",
   "execution_count": 8,
   "metadata": {},
   "outputs": [
    {
     "data": {
      "text/plain": [
       "2.4263102367e-12"
      ]
     },
     "execution_count": 8,
     "metadata": {},
     "output_type": "execute_result"
    }
   ],
   "source": [
    "SI.λe"
   ]
  },
  {
   "cell_type": "code",
   "execution_count": 43,
   "metadata": {},
   "outputs": [
    {
     "data": {
      "text/plain": [
       "3.861592046068738e-13"
      ]
     },
     "execution_count": 43,
     "metadata": {},
     "output_type": "execute_result"
    }
   ],
   "source": [
    "SI.ƛe"
   ]
  },
  {
   "cell_type": "code",
   "execution_count": 44,
   "metadata": {},
   "outputs": [
    {
     "data": {
      "text/plain": [
       "1.32613243113089e-69"
      ]
     },
     "execution_count": 44,
     "metadata": {},
     "output_type": "execute_result"
    }
   ],
   "source": [
    "SI.a_G"
   ]
  },
  {
   "cell_type": "code",
   "execution_count": 45,
   "metadata": {},
   "outputs": [
    {
     "data": {
      "text/plain": [
       "6.67408e-11"
      ]
     },
     "execution_count": 45,
     "metadata": {},
     "output_type": "execute_result"
    }
   ],
   "source": [
    "SI.GravitationalConstant"
   ]
  },
  {
   "cell_type": "code",
   "execution_count": 46,
   "metadata": {},
   "outputs": [
    {
     "data": {
      "text/plain": [
       "6.675453818e-11"
      ]
     },
     "execution_count": 46,
     "metadata": {},
     "output_type": "execute_result"
    }
   ],
   "source": [
    "SI.SanchezGravitationalConstant"
   ]
  },
  {
   "cell_type": "code",
   "execution_count": 47,
   "metadata": {},
   "outputs": [
    {
     "data": {
      "text/plain": [
       "9600.061"
      ]
     },
     "execution_count": 47,
     "metadata": {},
     "output_type": "execute_result"
    }
   ],
   "source": [
    "SI.KotovCosmicPeriodicity"
   ]
  },
  {
   "cell_type": "code",
   "execution_count": 48,
   "metadata": {},
   "outputs": [
    {
     "data": {
      "text/plain": [
       "4154781481226426191177580544000000"
      ]
     },
     "execution_count": 48,
     "metadata": {},
     "output_type": "execute_result"
    }
   ],
   "source": [
    "SI.O_B"
   ]
  },
  {
   "cell_type": "code",
   "execution_count": 49,
   "metadata": {},
   "outputs": [
    {
     "data": {
      "text/plain": [
       "80801742479451287588645990496171075700575436800000000"
      ]
     },
     "execution_count": 49,
     "metadata": {},
     "output_type": "execute_result"
    }
   ],
   "source": [
    "SI.O_M"
   ]
  },
  {
   "cell_type": "code",
   "execution_count": 50,
   "metadata": {},
   "outputs": [
    {
     "data": {
      "text/plain": [
       "1.6737236e-27"
      ]
     },
     "execution_count": 50,
     "metadata": {},
     "output_type": "execute_result"
    }
   ],
   "source": [
    "SI.MassHydrogen"
   ]
  },
  {
   "cell_type": "code",
   "execution_count": 51,
   "metadata": {},
   "outputs": [
    {
     "data": {
      "text/plain": [
       "3.16773502e-27"
      ]
     },
     "execution_count": 51,
     "metadata": {},
     "output_type": "execute_result"
    }
   ],
   "source": [
    "SI.MassTau"
   ]
  },
  {
   "cell_type": "code",
   "execution_count": 52,
   "metadata": {},
   "outputs": [
    {
     "data": {
      "text/plain": [
       "2.99792458e8"
      ]
     },
     "execution_count": 52,
     "metadata": {},
     "output_type": "execute_result"
    }
   ],
   "source": [
    "SI.c"
   ]
  },
  {
   "cell_type": "code",
   "execution_count": 53,
   "metadata": {},
   "outputs": [
    {
     "data": {
      "text/plain": [
       "1.2566370614e-6"
      ]
     },
     "execution_count": 53,
     "metadata": {},
     "output_type": "execute_result"
    }
   ],
   "source": [
    "SI.μ0"
   ]
  },
  {
   "cell_type": "code",
   "execution_count": 54,
   "metadata": {},
   "outputs": [
    {
     "data": {
      "text/plain": [
       "8.854187817e-12"
      ]
     },
     "execution_count": 54,
     "metadata": {},
     "output_type": "execute_result"
    }
   ],
   "source": [
    "SI.ε0"
   ]
  },
  {
   "cell_type": "code",
   "execution_count": 55,
   "metadata": {},
   "outputs": [
    {
     "data": {
      "text/plain": [
       "6.62607015e-34"
      ]
     },
     "execution_count": 55,
     "metadata": {},
     "output_type": "execute_result"
    }
   ],
   "source": [
    "SI.h"
   ]
  },
  {
   "cell_type": "code",
   "execution_count": 56,
   "metadata": {},
   "outputs": [
    {
     "data": {
      "text/plain": [
       "1.05457162825e-34"
      ]
     },
     "execution_count": 56,
     "metadata": {},
     "output_type": "execute_result"
    }
   ],
   "source": [
    "SI.PlanckConstantHbar"
   ]
  },
  {
   "cell_type": "code",
   "execution_count": 57,
   "metadata": {},
   "outputs": [
    {
     "data": {
      "text/plain": [
       "2.718281828459045"
      ]
     },
     "execution_count": 57,
     "metadata": {},
     "output_type": "execute_result"
    }
   ],
   "source": [
    "SI.e"
   ]
  },
  {
   "cell_type": "code",
   "execution_count": 58,
   "metadata": {},
   "outputs": [
    {
     "data": {
      "text/plain": [
       "ℯ = 2.7182818284590..."
      ]
     },
     "execution_count": 58,
     "metadata": {},
     "output_type": "execute_result"
    }
   ],
   "source": [
    "SI.ℯ"
   ]
  },
  {
   "cell_type": "code",
   "execution_count": 59,
   "metadata": {},
   "outputs": [
    {
     "data": {
      "text/plain": [
       "0.5772156649015329"
      ]
     },
     "execution_count": 59,
     "metadata": {},
     "output_type": "execute_result"
    }
   ],
   "source": [
    "SI.γ"
   ]
  },
  {
   "cell_type": "code",
   "execution_count": 60,
   "metadata": {},
   "outputs": [
    {
     "data": {
      "text/plain": [
       "2.7255"
      ]
     },
     "execution_count": 60,
     "metadata": {},
     "output_type": "execute_result"
    }
   ],
   "source": [
    "SI.CmbTemperature"
   ]
  },
  {
   "cell_type": "code",
   "execution_count": 41,
   "metadata": {},
   "outputs": [
    {
     "data": {
      "text/plain": [
       "2.99792458e8"
      ]
     },
     "execution_count": 41,
     "metadata": {},
     "output_type": "execute_result"
    }
   ],
   "source": [
    "SI.SpeedOfLight"
   ]
  },
  {
   "cell_type": "code",
   "execution_count": 9,
   "metadata": {},
   "outputs": [
    {
     "data": {
      "text/plain": [
       "8.724905575508271e292"
      ]
     },
     "execution_count": 9,
     "metadata": {},
     "output_type": "execute_result"
    }
   ],
   "source": [
    "# Happy family Product as seen in https://en.wikipedia.org/wiki/Sporadic_group\n",
    "SI.HFP"
   ]
  },
  {
   "cell_type": "code",
   "execution_count": 11,
   "metadata": {},
   "outputs": [
    {
     "data": {
      "text/plain": [
       "Inf"
      ]
     },
     "execution_count": 11,
     "metadata": {},
     "output_type": "execute_result"
    }
   ],
   "source": [
    "# 26 Sporadic Group https://en.wikipedia.org/wiki/Sporadic_group\n",
    "SI.TSSGP"
   ]
  },
  {
   "cell_type": "markdown",
   "metadata": {},
   "source": [
    "With PyCall, Numpy, Scipy and PyPlot"
   ]
  },
  {
   "cell_type": "code",
   "execution_count": 23,
   "metadata": {},
   "outputs": [
    {
     "name": "stdout",
     "output_type": "stream",
     "text": [
      "\u001b[32m\u001b[1m Resolving\u001b[22m\u001b[39m package versions...\n",
      "\u001b[32m\u001b[1m Installed\u001b[22m\u001b[39m Reexport ────────── v0.2.0\n",
      "\u001b[32m\u001b[1m Installed\u001b[22m\u001b[39m FixedPointNumbers ─ v0.5.3\n",
      "\u001b[32m\u001b[1m Installed\u001b[22m\u001b[39m LaTeXStrings ────── v1.0.3\n",
      "\u001b[32m\u001b[1m Installed\u001b[22m\u001b[39m PyPlot ──────────── v2.8.1\n",
      "\u001b[32m\u001b[1m Installed\u001b[22m\u001b[39m ColorTypes ──────── v0.7.5\n",
      "\u001b[32m\u001b[1m Installed\u001b[22m\u001b[39m Colors ──────────── v0.9.5\n",
      "\u001b[32m\u001b[1m  Updating\u001b[22m\u001b[39m `~/Project.toml`\n",
      " \u001b[90m [d330b81b]\u001b[39m\u001b[92m + PyPlot v2.8.1\u001b[39m\n",
      "\u001b[32m\u001b[1m  Updating\u001b[22m\u001b[39m `~/Manifest.toml`\n",
      " \u001b[90m [3da002f7]\u001b[39m\u001b[92m + ColorTypes v0.7.5\u001b[39m\n",
      " \u001b[90m [5ae59095]\u001b[39m\u001b[92m + Colors v0.9.5\u001b[39m\n",
      " \u001b[90m [53c48c17]\u001b[39m\u001b[92m + FixedPointNumbers v0.5.3\u001b[39m\n",
      " \u001b[90m [b964fa9f]\u001b[39m\u001b[92m + LaTeXStrings v1.0.3\u001b[39m\n",
      " \u001b[90m [d330b81b]\u001b[39m\u001b[92m + PyPlot v2.8.1\u001b[39m\n",
      " \u001b[90m [189a3867]\u001b[39m\u001b[92m + Reexport v0.2.0\u001b[39m\n"
     ]
    }
   ],
   "source": [
    "import Pkg; Pkg.add(\"PyPlot\")"
   ]
  },
  {
   "cell_type": "code",
   "execution_count": 26,
   "metadata": {},
   "outputs": [
    {
     "data": {
      "text/plain": [
       "0.7071067811865475"
      ]
     },
     "execution_count": 26,
     "metadata": {},
     "output_type": "execute_result"
    }
   ],
   "source": [
    "#python\n",
    "#import numpy\n",
    "#print(np.pi)\n",
    "using PyCall\n",
    "#math = pyimport(\"math\")\n",
    "@pyimport numpy\n",
    "numpy.sin(numpy.pi / 4) # returns ≈ 1/√2 = 0.70710678...\n",
    "#math.pi"
   ]
  },
  {
   "cell_type": "code",
   "execution_count": null,
   "metadata": {},
   "outputs": [],
   "source": [
    "## Examples of "
   ]
  },
  {
   "cell_type": "code",
   "execution_count": 37,
   "metadata": {},
   "outputs": [
    {
     "data": {
      "image/png": "[encoded data removed]",
      "text/plain": [
       "Figure(PyObject <Figure size 640x480 with 1 Axes>)"
      ]
     },
     "metadata": {},
     "output_type": "display_data"
    }
   ],
   "source": [
    "using PyPlot\n",
    "using PyCall\n",
    "@pyimport math\n",
    "@pyimport numpy as np\n",
    "\n",
    "x = np.linspace(0,8*np.pi^2/log(2),30); y = np.sin(3*x +np.cos(x));\n",
    "scatter(x, y, color=\"blue\", linewidth=1.0, linestyle=\"-\")\n",
    "plot(x, y, color=\"red\", linewidth=1.0, linestyle=\"--\")\n",
    "#plt.title(\"A logarithm modulated sinusoid\")\n",
    "plt.show()"
   ]
  },
  {
   "cell_type": "code",
   "execution_count": 98,
   "metadata": {},
   "outputs": [
    {
     "data": {
      "image/png": "[encoded data removed]",
      "text/plain": [
       "Figure(PyObject <Figure size 640x480 with 1 Axes>)"
      ]
     },
     "metadata": {},
     "output_type": "display_data"
    },
    {
     "data": {
      "image/png": "[encoded data removed]",
      "text/plain": [
       "Figure(PyObject <Figure size 640x480 with 1 Axes>)"
      ]
     },
     "execution_count": 98,
     "metadata": {},
     "output_type": "execute_result"
    }
   ],
   "source": [
    "using PyPlot\n",
    "using PyCall\n",
    "@pyimport math\n",
    "@pyimport numpy as np\n",
    "\n",
    "#x = rand(100)\n",
    "#y = rand(10)\n",
    "#plot(x=x,y=y)\n",
    "\n",
    "x = [1:10;]\n",
    "y = 10rand(10,1)\n",
    "\n",
    "p = plot(x,y)\n",
    "xlabel(\"X\")\n",
    "ylabel(\"Y\")\n",
    "title(\"Your Title Goes Here\")\n",
    "grid(\"on\")\n",
    "gcf() # Needed by IJulia to display plot\n"
   ]
  },
  {
   "cell_type": "code",
   "execution_count": 108,
   "metadata": {},
   "outputs": [
    {
     "name": "stdout",
     "output_type": "stream",
     "text": [
      "3.141592653589793\n"
     ]
    }
   ],
   "source": [
    "using PyCall\n",
    "@pyimport numpy\n",
    "println(numpy.pi)"
   ]
  },
  {
   "cell_type": "markdown",
   "metadata": {},
   "source": [
    "Gradually, more functionality will be added into this package."
   ]
  }
 ],
 "metadata": {
  "kernelspec": {
   "display_name": "Julia 0.7.0",
   "language": "julia",
   "name": "julia-0.7"
  },
  "language_info": {
   "file_extension": ".jl",
   "mimetype": "application/julia",
   "name": "julia",
   "version": "0.7.0"
  }
 },
 "nbformat": 4,
 "nbformat_minor": 2
}
